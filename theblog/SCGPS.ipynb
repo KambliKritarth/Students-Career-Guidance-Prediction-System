{
 "cells": [
  {
   "cell_type": "markdown",
   "id": "894d2ea6",
   "metadata": {},
   "source": [
    "Career Guidance System using Classification"
   ]
  },
  {
   "cell_type": "code",
   "execution_count": 4,
   "id": "2e52cf43",
   "metadata": {},
   "outputs": [],
   "source": [
    "import pandas as pd\n",
    "import numpy as np\n",
    "\n",
    "from sklearn.model_selection import train_test_split\n",
    "from sklearn.preprocessing import StandardScaler\n",
    "from sklearn.neighbors import KNeighborsClassifier\n",
    "from sklearn.metrics import confusion_matrix\n",
    "from sklearn.metrics import f1_score\n",
    "from sklearn.metrics import accuracy_score"
   ]
  },
  {
   "cell_type": "code",
   "execution_count": 5,
   "id": "cd29fbe9",
   "metadata": {},
   "outputs": [
    {
     "name": "stdout",
     "output_type": "stream",
     "text": [
      "462\n",
      "   Database Fundamentals  Computer Architecture  \\\n",
      "0                      2                     91   \n",
      "1                     51                      2   \n",
      "2                     18                      7   \n",
      "3                     73                     15   \n",
      "4                     87                      9   \n",
      "\n",
      "   Distributed Computing Systems  Networking  Software Development  \\\n",
      "0                             43          58                    52   \n",
      "1                             15          49                    98   \n",
      "2                             66          81                    60   \n",
      "3                             82           6                    52   \n",
      "4                             68          88                    37   \n",
      "\n",
      "   Programming Skills  AI ML  Software Engineering  Business Analysis  \\\n",
      "0                  26     85                    85                 66   \n",
      "1                  20     82                    82                 71   \n",
      "2                  65     77                    73                 57   \n",
      "3                  19     20                    62                 32   \n",
      "4                  26     84                    78                 53   \n",
      "\n",
      "   Data Science  Graphics Designing  Max  Field  \n",
      "0            98                  36   98     10  \n",
      "1             1                  18   98      5  \n",
      "2             3                  77   81      4  \n",
      "3            38                  72   82      3  \n",
      "4            64                  28   88      4  \n"
     ]
    }
   ],
   "source": [
    "dataset = pd.read_csv('CSE_dataset01{{index ()}}.csv')\n",
    "print(len(dataset))\n",
    "print(dataset.head())"
   ]
  },
  {
   "cell_type": "code",
   "execution_count": 6,
   "id": "dd0c04b4",
   "metadata": {},
   "outputs": [],
   "source": [
    "#Replace zeroes\n",
    "zero_not_accepted = ['Database Fundamentals','Software Development', 'Programming Skills']"
   ]
  },
  {
   "cell_type": "code",
   "execution_count": 7,
   "id": "bcfdd206",
   "metadata": {},
   "outputs": [],
   "source": [
    "for column in zero_not_accepted:\n",
    "    dataset[column] = dataset[column].replace(0,np.NaN)\n",
    "    mean = int(dataset[column].mean(skipna=True))\n",
    "    dataset[column] = dataset[column].replace(np.NaN,mean)"
   ]
  },
  {
   "cell_type": "code",
   "execution_count": 8,
   "id": "e125d145",
   "metadata": {},
   "outputs": [],
   "source": [
    "# split dataset\n",
    "X = dataset.iloc[:, 0:11]\n",
    "y = dataset.iloc[:, 12]\n",
    "X_train, X_test, y_train, y_test = train_test_split(X, y, random_state=0, test_size=0.2)"
   ]
  },
  {
   "cell_type": "code",
   "execution_count": 9,
   "id": "35440a30",
   "metadata": {},
   "outputs": [],
   "source": [
    "#feature scaling\n",
    "sc_X = StandardScaler()\n",
    "X_train = sc_X.fit_transform(X_train)\n",
    "X_test = sc_X.transform(X_test)"
   ]
  },
  {
   "cell_type": "code",
   "execution_count": 10,
   "id": "43721492",
   "metadata": {},
   "outputs": [
    {
     "data": {
      "text/plain": [
       "462"
      ]
     },
     "execution_count": 10,
     "metadata": {},
     "output_type": "execute_result"
    }
   ],
   "source": [
    "len(y)"
   ]
  },
  {
   "cell_type": "code",
   "execution_count": 11,
   "id": "9c150e32",
   "metadata": {},
   "outputs": [
    {
     "data": {
      "text/plain": [
       "21.494185260204677"
      ]
     },
     "execution_count": 11,
     "metadata": {},
     "output_type": "execute_result"
    }
   ],
   "source": [
    "import math\n",
    "math.sqrt(462)"
   ]
  },
  {
   "cell_type": "code",
   "execution_count": 12,
   "id": "ef71b772",
   "metadata": {},
   "outputs": [],
   "source": [
    "# Define the model: Init K-NN\n",
    "classifier = KNeighborsClassifier(n_neighbors=21, p=11,metric='euclidean')"
   ]
  },
  {
   "cell_type": "code",
   "execution_count": 13,
   "id": "c2271789",
   "metadata": {},
   "outputs": [
    {
     "data": {
      "text/plain": [
       "KNeighborsClassifier(metric='euclidean', n_neighbors=21, p=11)"
      ]
     },
     "execution_count": 13,
     "metadata": {},
     "output_type": "execute_result"
    }
   ],
   "source": [
    "# Fit Model\n",
    "classifier.fit(X_train, y_train)"
   ]
  },
  {
   "cell_type": "code",
   "execution_count": 14,
   "id": "e9693cb8",
   "metadata": {},
   "outputs": [
    {
     "data": {
      "text/plain": [
       "array([ 2,  5,  4,  4,  6,  4,  9,  6,  1,  8,  8,  4,  2,  6,  9,  1,  1,\n",
       "        2,  8, 11,  3,  3,  5,  4,  4,  2,  1,  2,  7,  3,  3, 10,  8,  5,\n",
       "       10,  8,  4,  8,  2,  8,  9,  1,  9,  9,  4,  6,  6,  3,  3,  6, 10,\n",
       "        3,  1,  4,  9,  1,  4,  2,  6,  2,  8,  7,  8,  2,  9,  6, 11, 11,\n",
       "        3,  8, 10,  6,  1,  1,  5,  1,  5,  7, 10,  8,  2,  2,  3,  8, 11,\n",
       "        1,  3,  1,  8,  9,  8,  5,  6], dtype=int64)"
      ]
     },
     "execution_count": 14,
     "metadata": {},
     "output_type": "execute_result"
    }
   ],
   "source": [
    "# Predict the test set results\n",
    "y_pred = classifier.predict(X_test)\n",
    "y_pred"
   ]
  },
  {
   "cell_type": "code",
   "execution_count": 15,
   "id": "9f628698",
   "metadata": {},
   "outputs": [
    {
     "name": "stdout",
     "output_type": "stream",
     "text": [
      "[[3 1 0 0 0 0 1 1 0 0 0]\n",
      " [2 6 0 0 0 0 0 1 0 0 0]\n",
      " [2 1 6 0 0 1 0 0 0 0 0]\n",
      " [1 1 0 5 0 0 0 1 0 0 0]\n",
      " [0 1 2 0 2 1 0 0 1 0 0]\n",
      " [0 0 0 1 0 7 1 0 0 0 0]\n",
      " [0 0 1 0 1 0 0 0 0 1 0]\n",
      " [1 0 1 0 0 0 0 7 0 0 0]\n",
      " [0 1 0 2 0 0 0 0 5 1 0]\n",
      " [0 0 0 1 3 1 0 4 1 2 0]\n",
      " [3 0 0 1 0 0 1 0 1 1 4]]\n",
      "0.5053763440860215\n"
     ]
    }
   ],
   "source": [
    "# Evaluate Model\n",
    "cm = confusion_matrix(y_test, y_pred)\n",
    "print (cm)\n",
    "print(f1_score(y_test, y_pred, average='micro'))"
   ]
  },
  {
   "cell_type": "code",
   "execution_count": 16,
   "id": "bcc144a3",
   "metadata": {},
   "outputs": [
    {
     "name": "stdout",
     "output_type": "stream",
     "text": [
      "0.5053763440860215\n"
     ]
    }
   ],
   "source": [
    "print(accuracy_score(y_test, y_pred))"
   ]
  },
  {
   "cell_type": "code",
   "execution_count": 17,
   "id": "5621899e",
   "metadata": {},
   "outputs": [],
   "source": [
    "#saving model as a pickle\n",
    "import pickle"
   ]
  },
  {
   "cell_type": "code",
   "execution_count": 18,
   "id": "fa835173",
   "metadata": {},
   "outputs": [],
   "source": [
    "pickle.dump(classifier,open(\"student_career_guidance_system_ml_model.sav\", \"wb\"))\n",
    "pickle.dump(sc_X, open(\"scaler.sav\", \"wb\"))"
   ]
  },
  {
   "cell_type": "code",
   "execution_count": null,
   "id": "3bd338a1",
   "metadata": {},
   "outputs": [],
   "source": []
  }
 ],
 "metadata": {
  "kernelspec": {
   "display_name": "Python 3",
   "language": "python",
   "name": "python3"
  },
  "language_info": {
   "codemirror_mode": {
    "name": "ipython",
    "version": 3
   },
   "file_extension": ".py",
   "mimetype": "text/x-python",
   "name": "python",
   "nbconvert_exporter": "python",
   "pygments_lexer": "ipython3",
   "version": "3.8.8"
  }
 },
 "nbformat": 4,
 "nbformat_minor": 5
}
